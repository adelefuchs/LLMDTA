{
 "cells": [
  {
   "cell_type": "code",
   "execution_count": 1,
   "metadata": {},
   "outputs": [
    {
     "name": "stdout",
     "output_type": "stream",
     "text": [
      "Combined CSV saved as 'combined.csv' with 11103 rows and 6 columns.\n"
     ]
    }
   ],
   "source": [
    "import pandas as pd\n",
    "\n",
    "# Paths to your CSV files\n",
    "file1 = 'data/DAVIS/test.csv'\n",
    "file2 = 'data/DAVIS/train.csv'\n",
    "file3 = 'data/DAVIS/val.csv'\n",
    "\n",
    "# Read the CSV files\n",
    "df1 = pd.read_csv(file1)\n",
    "df2 = pd.read_csv(file2)\n",
    "df3 = pd.read_csv(file3)\n",
    "\n",
    "# Combine them into one DataFrame\n",
    "combined_df = pd.concat([df1, df2, df3], ignore_index=True)\n",
    "\n",
    "# Save to a new CSV file\n",
    "combined_df.to_csv('data/DAVIS/combined.csv', index=False)\n",
    "\n",
    "print(f\"Combined CSV saved as 'combined.csv' with {combined_df.shape[0]} rows and {combined_df.shape[1]} columns.\")\n"
   ]
  },
  {
   "cell_type": "code",
   "execution_count": 3,
   "metadata": {},
   "outputs": [
    {
     "name": "stdout",
     "output_type": "stream",
     "text": [
      "Generated files:\n",
      " - drugs.csv (68 rows)\n",
      " - targets.csv (379 rows)\n",
      " - pairs.csv (11103 rows)\n"
     ]
    }
   ],
   "source": [
    "import pandas as pd\n",
    "\n",
    "# Path to the combined CSV file\n",
    "combined_file = 'data/DAVIS/combined.csv'\n",
    "df = pd.read_csv(combined_file)\n",
    "\n",
    "# Create a unique ID for drugs and targets\n",
    "df['drug_id'] = df['SMILES'].astype('category').cat.codes\n",
    "df['prot_id'] = df['Target Sequence'].astype('category').cat.codes\n",
    "\n",
    "# Create `drugs.csv`\n",
    "drugs = df[['drug_id', 'SMILES']].drop_duplicates()\n",
    "drugs.columns = ['drug_id', 'drug_smile']\n",
    "drugs.to_csv('data/DAVIS/drugs.csv', sep='\\t', index=False)\n",
    "\n",
    "# Create `targets.csv`\n",
    "targets = df[['prot_id', 'Target Sequence']].drop_duplicates()\n",
    "targets.columns = ['prot_id', 'prot_seq']\n",
    "targets.to_csv('data/DAVIS/targets.csv', sep='\\t', index=False)\n",
    "\n",
    "# Create `pairs.csv`\n",
    "pairs = df[['drug_id', 'prot_id', 'Label']]\n",
    "pairs.to_csv('data/DAVIS/pairs.csv', sep='\\t', index=False)\n",
    "\n",
    "print(f\"Generated files:\\n - drugs.csv ({drugs.shape[0]} rows)\\n - targets.csv ({targets.shape[0]} rows)\\n - pairs.csv ({pairs.shape[0]} rows)\")\n"
   ]
  }
 ],
 "metadata": {
  "kernelspec": {
   "display_name": "myenv",
   "language": "python",
   "name": "python3"
  },
  "language_info": {
   "codemirror_mode": {
    "name": "ipython",
    "version": 3
   },
   "file_extension": ".py",
   "mimetype": "text/x-python",
   "name": "python",
   "nbconvert_exporter": "python",
   "pygments_lexer": "ipython3",
   "version": "3.9.21"
  }
 },
 "nbformat": 4,
 "nbformat_minor": 2
}
